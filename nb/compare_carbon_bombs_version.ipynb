{
 "cells": [
  {
   "cell_type": "markdown",
   "metadata": {},
   "source": [
    "# Import packages and load data\n"
   ]
  },
  {
   "cell_type": "code",
   "execution_count": null,
   "metadata": {},
   "outputs": [],
   "source": [
    "# Import packages and load data\n",
    "import pandas as pd\n",
    "import numpy as np\n",
    "from carbon_bombs.io.rystad import load_rystad_cb_emission_database\n",
    "from carbon_bombs.io.khune_paper import load_carbon_bomb_gasoil_database\n",
    "from carbon_bombs.conf import FPATH_OUT_CB\n",
    "\n",
    "# Carbon Bombs v2\n",
    "cb_v2 = load_rystad_cb_emission_database()\n",
    "# Carbon Bombs v1\n",
    "# cb_v1 = pd.read_csv(FPATH_OUT_CB)\n",
    "# cb_v1 = cb_v1.loc[cb_v1.Fuel_type_source_CB == 'Oil&Gas']\n",
    "cb_v1 = load_carbon_bomb_gasoil_database()"
   ]
  },
  {
   "cell_type": "markdown",
   "metadata": {},
   "source": [
    "# Cleaning actions\n"
   ]
  },
  {
   "cell_type": "code",
   "execution_count": null,
   "metadata": {},
   "outputs": [],
   "source": [
    "# Clean country names between versions\n",
    "cb_v1[\"Country\"] = cb_v1[\"Country\"].replace({\"United Arab Emirates\": \"UAE\"})\n",
    "# Clean project names when multiple country\n",
    "cb_v1[\"Project Name\"] = cb_v1.apply(\n",
    "    lambda row: row[\"Project Name\"].removesuffix(f\"_{row['Country']}\") if isinstance(row[\"Project Name\"], str) else row[\"Project Name\"],\n",
    "    axis=1\n",
    ")\n"
   ]
  },
  {
   "cell_type": "markdown",
   "metadata": {},
   "source": [
    "# Define manual matching"
   ]
  },
  {
   "cell_type": "code",
   "execution_count": null,
   "metadata": {},
   "outputs": [],
   "source": [
    "# Define manual matching dictionary\n",
    "manual_matching = {\n",
    "    \"Tarim (CNPC)\": \"Tarim\",\n",
    "    \"Xinjiang (CNPC)\": \"Xinjiang\",\n",
    "    \"Ahwaz Asmari\":\"Ahwaz (Ahwaz Asmari)\",\n",
    "    \"Ahwaz Bangestan\":\"Ahwaz (Bangestan)\",\n",
    "    \"Austin Chalk Tight\":\"Austin Chalk Horizontal\",\n",
    "    \"Greater Burgan\": \"Greater Burgan (CR in field)\",\n",
    "    \"Hassi R'Mel (Domestic)\": \"Hassi R'Mel (Pipe Export)\",\n",
    "    \"West Siberia Onshore\" : \"Lukoil-West Siberia\",\n",
    "    \"South Pars (Phases 4-5) dry gas\": \"South Pars (Phases 4-5)\",\n",
    "    \"South Pars (Phases 22-24)\":\"South Pars (Phases 23-28)\",\n",
    "    # 2 project can be match for Yamal in v1 : Bovanenkovo Zone or Tambei Zone, we keep the southern zone\n",
    "    \"Bovanenkovo Zone (Yamal Megaproject)\" : \"Southern Zone (Yamal Megaproject)\",\n",
    "    \"Greater Turbot (Stabroek)\" : \"Stabroek Future Phases\",\n",
    "    # Only one project in tanzania for both version, we decide to match them manually\n",
    "    \"Tanzanian Coastal Offshore\":\"Tanzania LNG (Block 1/4 and 2)\",\n",
    "    \"Lula (X-Tupi)\":\"Tupi (x-Lula)\",\n",
    "    \"Longmaxi Shale (Sichuan/Changyu)\": \"Yaan Slope Onshore Sichuan Province\",\n",
    "}"
   ]
  },
  {
   "cell_type": "markdown",
   "metadata": {},
   "source": [
    "# Process datasets and match carbon bombs projects between versions / Create a comparison dataframe"
   ]
  },
  {
   "cell_type": "code",
   "execution_count": null,
   "metadata": {},
   "outputs": [],
   "source": [
    "from carbon_bombs.utils.logger import LOGGER\n",
    "\n",
    "# First, create two dataframes with only the columns we want and rename them\n",
    "df_v1 = cb_v1[['New_project','Project Name', 'Country','Potential emissions (GtCO2)']].copy()\n",
    "df_v2 = cb_v2[[\n",
    "    'Project_name',\n",
    "    'Country',\n",
    "    'Producing_potential_emissions_in_GTCO2',\n",
    "    'Short_term_expansion_potential_emissions_in_GTCO2',\n",
    "    'Long_term_expansion_potential_emissions_in_GTCO2',\n",
    "    'Total_potential_emissions_in_GTCO2'\n",
    "]].copy()\n",
    "\n",
    "\n",
    "# Rename columns\n",
    "df_v1 = df_v1.rename(columns={\n",
    "    'New_project': 'new_project_v1',\n",
    "    'Project Name': 'project_name_v1',\n",
    "    'Country': 'country_v1',\n",
    "    'Potential emissions (GtCO2)': 'total_emissions_v1',\n",
    "})\n",
    "\n",
    "df_v2 = df_v2.rename(columns={\n",
    "    'Project_name': 'project_name_v2',\n",
    "    'Country': 'country_v2',\n",
    "    'Total_potential_emissions_in_GTCO2': 'total_emissions_v2',\n",
    "    'Producing_potential_emissions_in_GTCO2': 'producing_emissions_v2',\n",
    "    'Short_term_expansion_potential_emissions_in_GTCO2': 'short_term_emissions_v2',\n",
    "    'Long_term_expansion_potential_emissions_in_GTCO2': 'long_term_emissions_v2'\n",
    "})\n",
    "\n",
    "# Remove trailing and leading spaces from project names\n",
    "df_v1['project_name_v1'] = df_v1['project_name_v1'].str.strip()\n",
    "df_v2['project_name_v2'] = df_v2['project_name_v2'].str.strip()\n",
    "\n",
    "# Create a mapping series for manual matches\n",
    "manual_mapping = pd.Series(manual_matching)\n",
    "\n",
    "# Apply manual matching to project names while keeping the original country\n",
    "df_v1['matching_name'] = df_v1['project_name_v1'].map(manual_matching).fillna(df_v1['project_name_v1']).str.lower()\n",
    "df_v2['matching_name'] = df_v2['project_name_v2'].str.lower()\n",
    "\n",
    "# Create composite keys combining project name and country\n",
    "df_v1['matching_key'] = df_v1['matching_name'] + '|' + df_v1['country_v1'].str.lower()\n",
    "df_v2['matching_key'] = df_v2['matching_name'] + '|' + df_v2['country_v2'].str.lower()\n",
    "\n",
    "# Perform outer join using the composite key\n",
    "comparison_df = df_v1.merge(\n",
    "    df_v2,\n",
    "    on='matching_key',\n",
    "    how='outer',\n",
    "    indicator=True\n",
    ")\n",
    "\n",
    "# Check for country mismatches\n",
    "country_mismatches = []\n",
    "for idx, row in comparison_df.iterrows():\n",
    "    if pd.notna(row['country_v1']) and pd.notna(row['country_v2']) and row['country_v1'] != row['country_v2']:\n",
    "        LOGGER.warning(f\"Country mismatch for project '{row['project_name_v1']}' -> '{row['project_name_v2']}': \"\n",
    "                      f\"V1: {row['country_v1']} vs V2: {row['country_v2']}\")\n",
    "        country_mismatches.append({\n",
    "            'project': row['project_name_v1'],\n",
    "            'project_v2': row['project_name_v2'],\n",
    "            'country_v1': row['country_v1'],\n",
    "            'country_v2': row['country_v2']\n",
    "        })\n",
    "\n",
    "# Clean up the DataFrame\n",
    "comparison_df = comparison_df.drop(['matching_name_x', 'matching_name_y'], axis=1, errors='ignore')\n",
    "\n",
    "# Print manual matches that were successful\n",
    "successful_manual_matches = comparison_df[\n",
    "    comparison_df['project_name_v1'].isin(manual_matching.keys()) & \n",
    "    (comparison_df['_merge'] == 'both')\n",
    "]\n",
    "if not successful_manual_matches.empty:\n",
    "    print(\"\\nSuccessful manual matches:\")\n",
    "    for _, row in successful_manual_matches.iterrows():\n",
    "        print(f\"V1: '{row['project_name_v1']}' -> V2: '{row['project_name_v2']}'\")\n"
   ]
  },
  {
   "cell_type": "markdown",
   "metadata": {},
   "source": [
    "# Summary informations \n"
   ]
  },
  {
   "cell_type": "code",
   "execution_count": null,
   "metadata": {},
   "outputs": [],
   "source": [
    "# Print summary\n",
    "print(f\"\\nSummary:\")\n",
    "print(f\"Total projects in v1: {len(df_v1)}\")\n",
    "print(f\"Total projects in v2: {len(df_v2)}\")\n",
    "print(f\"Matched projects: {len(comparison_df[comparison_df['_merge'] == 'both'])}\")\n",
    "print(f\"Projects only in v1: {len(comparison_df[comparison_df['_merge'] == 'left_only'])}\")\n",
    "print(f\"Projects only in v2: {len(comparison_df[comparison_df['_merge'] == 'right_only'])}\")\n",
    "print(f\"Number of country mismatches: {len(country_mismatches)}\")\n",
    "\n",
    "# Print projects only in V2\n",
    "v2_only = comparison_df[comparison_df['_merge'] == 'right_only']\n",
    "if not v2_only.empty:\n",
    "    print(\"\\nProjects only in V2:\")\n",
    "    for _, row in v2_only.iterrows():\n",
    "        print(f\"- {row['project_name_v2']} ({row['country_v2']})\")\n",
    "\n",
    "        # TODO add possible matching recomendation"
   ]
  },
  {
   "cell_type": "markdown",
   "metadata": {},
   "source": [
    "# Calculate difference between versions (Potential emissions)"
   ]
  },
  {
   "cell_type": "code",
   "execution_count": null,
   "metadata": {},
   "outputs": [],
   "source": [
    "# Calculate emissions difference (V2 - V1)\n",
    "comparison_df['total_emissions_difference'] = comparison_df['total_emissions_v2'] - comparison_df['total_emissions_v1']\n",
    "\n",
    "# Add percentage difference for emissions\n",
    "comparison_df['total_emissions_pct_difference'] = (\n",
    "    (comparison_df['total_emissions_v2'] - comparison_df['total_emissions_v1']) / \n",
    "    comparison_df['total_emissions_v1'] * 100\n",
    ").round(2)\n",
    "\n",
    "\n",
    "# Print summary of differences\n",
    "print(\"\\nEmissions and Location Differences Summary:\")\n",
    "matched_projects = comparison_df[comparison_df['project_name_v2'].notna()]\n",
    "\n",
    "print(f\"\\nEmissions differences (for matched projects):\")\n",
    "print(f\"Mean absolute difference: {matched_projects['total_emissions_difference'].abs().mean():.2f} GTCO2\")\n",
    "print(f\"Max absolute difference: {matched_projects['total_emissions_difference'].abs().max():.2f} GTCO2\")\n",
    "\n",
    "# Projects with significant emissions differences\n",
    "projects_big_emission_diff = matched_projects[matched_projects['total_emissions_pct_difference'].abs() > 10]\n",
    "print(f\"Projects with >10% difference: {len(projects_big_emission_diff)}\")\n",
    "if not projects_big_emission_diff.empty:\n",
    "    print(\"Projects:\")\n",
    "    for _, row in projects_big_emission_diff.iterrows():\n",
    "        print(f\"- {row['project_name_v1']}: {row['total_emissions_pct_difference']:.1f}% difference \"\n",
    "              f\"({row['total_emissions_v1']:.2f} -> {row['total_emissions_v2']:.2f} GTCO2)\")\n"
   ]
  },
  {
   "cell_type": "markdown",
   "metadata": {},
   "source": [
    "# Calculate difference between versions (Coordinates) --> Deprecated"
   ]
  },
  {
   "cell_type": "code",
   "execution_count": null,
   "metadata": {},
   "outputs": [],
   "source": [
    "# from geopy.distance import geodesic\n",
    "\n",
    "# # Calculate distance between coordinates using geopy\n",
    "# def calculate_distance(row):\n",
    "#     \"\"\"Calculate the distance between two points in kilometers using geopy\"\"\"\n",
    "#     if pd.isna(row['latitude_v1']) or pd.isna(row['longitude_v1']) or pd.isna(row['latitude_v2']) or pd.isna(row['longitude_v2']):\n",
    "#         return None\n",
    "    \n",
    "#     coords_1 = (row['latitude_v1'], row['longitude_v1'])\n",
    "#     coords_2 = (row['latitude_v2'], row['longitude_v2'])\n",
    "    \n",
    "#     return geodesic(coords_1, coords_2).kilometers\n",
    "# # Calculate distance difference (V2 - V1)\n",
    "# comparison_df['distance_km'] = comparison_df.apply(calculate_distance, axis=1)\n",
    "\n",
    "# print(f\"\\nLocation differences (for matched projects):\")\n",
    "# print(f\"Mean distance between points: {matched_projects['distance_km'].mean():.2f} km\")\n",
    "# print(f\"Max distance between points: {matched_projects['distance_km'].max():.2f} km\")\n",
    "\n",
    "# # Projects with significant location differences\n",
    "# projects_big_location_diff = matched_projects[matched_projects['distance_km'] > 10]\n",
    "# print(f\"Projects with >10km difference: {len(projects_big_location_diff)}\")\n",
    "# if not projects_big_location_diff.empty:\n",
    "#     print(\"Projects:\")\n",
    "#     for _, row in projects_big_location_diff.iterrows():\n",
    "#         print(f\"- {row['project_name_v1']}: {row['distance_km']:.1f} km difference\")\n",
    "#         print(f\"  V1 coordinates: ({row['latitude_v1']:.4f}, {row['longitude_v1']:.4f})\")\n",
    "#         print(f\"  V2 coordinates: ({row['latitude_v2']:.4f}, {row['longitude_v2']:.4f})\")"
   ]
  },
  {
   "cell_type": "markdown",
   "metadata": {},
   "source": [
    "# Data processing for file output comparison : \n",
    "1. Ajout des informations du fichier de Kjell \n",
    "2. Différence d'emissions totale entre la version 1 et la version 2\n",
    "3. Status evolution v1/v2 : [plus une CB, une nouvelle CB, resté la meme chose]\n",
    "4. une colonne qui flag si le statut était not started dans le papier de Kjell et qu’il y a maintenant des émissions dans la phase production (ce qui veut dire que le projet a commencé) nom : \"has_started_since_v1\"\n"
   ]
  },
  {
   "cell_type": "code",
   "execution_count": null,
   "metadata": {},
   "outputs": [],
   "source": [
    "# 3. Define carbon bombs status changes\n",
    "conditions = [\n",
    "    comparison_df['project_name_v1'].notna() & comparison_df['project_name_v2'].isna(),\n",
    "    comparison_df['project_name_v1'].isna() & comparison_df['project_name_v2'].notna(),\n",
    "    comparison_df['project_name_v1'].notna() & comparison_df['project_name_v2'].notna() & (comparison_df['total_emissions_v2'] < 1),\n",
    "    comparison_df['project_name_v1'].notna() & comparison_df['project_name_v2'].notna()\n",
    "]\n",
    "\n",
    "choices = [\n",
    "    \"No longer classified as carbon bomb\",\n",
    "    \"Newly identified carbon bomb\",\n",
    "    \"Now below 1 GtCO2 threshold\",\n",
    "    \"Still classified as carbon bomb\"\n",
    "]\n",
    "\n",
    "comparison_df['new_carbon_bombs_status'] = np.select(\n",
    "    conditions, choices, default=\"Status unknown\"\n",
    ")\n",
    "\n",
    "# 4. Flag has_started_since_v1\n",
    "comparison_df['has_started_since_v1'] = np.where(\n",
    "    (comparison_df['new_project_v1'].fillna(\"\") == \"not started\") &\n",
    "    (comparison_df['producing_emissions_v2'].fillna(0) > 0),\n",
    "    True, False\n",
    ")"
   ]
  },
  {
   "cell_type": "markdown",
   "metadata": {},
   "source": [
    "# Clean dataframe and save result "
   ]
  },
  {
   "cell_type": "code",
   "execution_count": null,
   "metadata": {},
   "outputs": [],
   "source": [
    "comparison_df.columns"
   ]
  },
  {
   "cell_type": "code",
   "execution_count": null,
   "metadata": {},
   "outputs": [],
   "source": [
    "# Clean up final DataFrame\n",
    "comparison_df = comparison_df.drop('_merge', axis=1)\n",
    "\n",
    "# Sort the DataFrame to group matched and unmatched projects\n",
    "comparison_df = comparison_df.sort_values(\n",
    "    by=['project_name_v1', 'project_name_v2'],\n",
    "    na_position='last'\n",
    ")\n",
    "\n",
    "# Reorder columns\n",
    "ordered_columns = [\n",
    "    'project_name_v1',\n",
    "    'country_v1',\n",
    "    'total_emissions_v1',\n",
    "    'project_name_v2',\n",
    "    'country_v2',\n",
    "    'producing_emissions_v2',\n",
    "    'short_term_emissions_v2',\n",
    "    'long_term_emissions_v2',\n",
    "    'total_emissions_v2',\n",
    "    'total_emissions_difference',\n",
    "    'new_carbon_bombs_status',\n",
    "    'has_started_since_v1'\n",
    "]\n",
    "\n",
    "# Reorder columns and save to CSV\n",
    "comparison_df = comparison_df[ordered_columns]\n",
    "\n",
    "# Save to CSV\n",
    "comparison_df.to_csv('carbon_bombs_comparison.csv', index=False, sep=';')"
   ]
  },
  {
   "cell_type": "markdown",
   "metadata": {},
   "source": [
    "# Graphs\n"
   ]
  },
  {
   "cell_type": "code",
   "execution_count": null,
   "metadata": {},
   "outputs": [],
   "source": [
    "# import matplotlib.pyplot as plt\n",
    "# import seaborn as sns\n",
    "\n",
    "# # Only keep matched projects (those with rows'project_name_v1' and 'project_name_v2' columns not empty)\n",
    "# filtered_df = comparison_df[comparison_df['project_name_v1'].notna() & comparison_df['project_name_v2'].notna()]\n",
    "# # filtered_df = filtered_df[\n",
    "# #     (filtered_df['emissions_difference'] >= -2.5) & \n",
    "# #     (filtered_df['emissions_difference'] <= 2.5)\n",
    "# # ]\n",
    "\n",
    "\n",
    "# # Create the histogram\n",
    "# sns.histplot(filtered_df['emissions_difference'].dropna(), bins=30, kde=True, color='skyblue')\n",
    "\n",
    "# # Add titles and labels\n",
    "# plt.title('Distribution of Emissions Difference', fontsize=16)\n",
    "# plt.xlabel('Emissions Difference', fontsize=14)\n",
    "# plt.ylabel('Frequency', fontsize=14)\n",
    "\n",
    "# # Show the plot\n",
    "# plt.show()"
   ]
  }
 ],
 "metadata": {
  "kernelspec": {
   "display_name": "venv",
   "language": "python",
   "name": "python3"
  },
  "language_info": {
   "codemirror_mode": {
    "name": "ipython",
    "version": 3
   },
   "file_extension": ".py",
   "mimetype": "text/x-python",
   "name": "python",
   "nbconvert_exporter": "python",
   "pygments_lexer": "ipython3",
   "version": "3.10.9"
  }
 },
 "nbformat": 4,
 "nbformat_minor": 4
}
