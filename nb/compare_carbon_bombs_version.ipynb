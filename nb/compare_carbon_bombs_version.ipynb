{
 "cells": [
  {
   "cell_type": "markdown",
   "metadata": {},
   "source": [
    "# Import packages and load data\n"
   ]
  },
  {
   "cell_type": "code",
   "execution_count": 6,
   "metadata": {},
   "outputs": [],
   "source": [
    "# Import packages and load data\n",
    "import pandas as pd\n",
    "from carbon_bombs.io.rystad import load_rystad_cb_emission_database\n",
    "from carbon_bombs.conf import FPATH_OUT_CB\n",
    "\n",
    "# Carbon Bombs v2\n",
    "cb_v2 = load_rystad_cb_emission_database()\n",
    "\n",
    "# Carbon Bombs v1\n",
    "cb_v1 = pd.read_csv(FPATH_OUT_CB)\n"
   ]
  },
  {
   "cell_type": "markdown",
   "metadata": {},
   "source": [
    "# Define manual matching"
   ]
  },
  {
   "cell_type": "code",
   "execution_count": 7,
   "metadata": {},
   "outputs": [],
   "source": [
    "# Define manual matching dictionary\n",
    "manual_matching = {\n",
    "    \"Tarim (CNPC)\": \"Tarim\",\n",
    "    \"Xinjiang Hongshan Coal Mine\": \"Xinjiang\", # Add more manual matches here\n",
    "}"
   ]
  },
  {
   "cell_type": "markdown",
   "metadata": {},
   "source": [
    "# Process datasets and match carbon bombs projects between versions / Create a comparison dataframe"
   ]
  },
  {
   "cell_type": "code",
   "execution_count": 8,
   "metadata": {},
   "outputs": [
    {
     "name": "stdout",
     "output_type": "stream",
     "text": [
      "\n",
      "Successful manual matches:\n",
      "V1: 'Tarim (CNPC)' -> V2: 'Tarim'\n"
     ]
    }
   ],
   "source": [
    "from carbon_bombs.utils.logger import LOGGER\n",
    "\n",
    "# Define manual matching dictionary\n",
    "manual_matching = {\n",
    "    \"Tarim (CNPC)\": \"Tarim\",\n",
    "    # Add more manual matches here\n",
    "}\n",
    "\n",
    "# First, create two dataframes with only the columns we want and rename them\n",
    "df_v1 = cb_v1[['Carbon_bomb_name_source_CB', 'Country_source_CB', 'Potential_GtCO2_source_CB', 'Latitude', 'Longitude']].copy()\n",
    "df_v2 = cb_v2[['Project_name', 'Country', 'Total_potential_emissions_in_GTCO2', 'Latitude', 'Longitude']].copy()\n",
    "\n",
    "# Rename columns\n",
    "df_v1 = df_v1.rename(columns={\n",
    "    'Carbon_bomb_name_source_CB': 'project_name_v1',\n",
    "    'Country_source_CB': 'country_v1',\n",
    "    'Potential_GtCO2_source_CB': 'emissions_v1',\n",
    "    'Latitude': 'latitude_v1',\n",
    "    'Longitude': 'longitude_v1',\n",
    "})\n",
    "\n",
    "df_v2 = df_v2.rename(columns={\n",
    "    'Project_name': 'project_name_v2',\n",
    "    'Country': 'country_v2',\n",
    "    'Total_potential_emissions_in_GTCO2': 'emissions_v2',\n",
    "    'Latitude': 'latitude_v2',\n",
    "    'Longitude': 'longitude_v2'\n",
    "})\n",
    "\n",
    "# Create a mapping series for manual matches\n",
    "manual_mapping = pd.Series(manual_matching)\n",
    "\n",
    "# Apply manual matching to create alternative project names for matching\n",
    "df_v1['matching_name'] = df_v1['project_name_v1'].map(manual_matching).fillna(df_v1['project_name_v1'])\n",
    "df_v2['matching_name'] = df_v2['project_name_v2']\n",
    "\n",
    "# Perform outer join to get all projects from both versions\n",
    "comparison_df = df_v1.merge(\n",
    "    df_v2,\n",
    "    left_on='matching_name',\n",
    "    right_on='matching_name',\n",
    "    how='outer',\n",
    "    indicator=True\n",
    ")\n",
    "\n",
    "# Check for country mismatches\n",
    "country_mismatches = []\n",
    "for idx, row in comparison_df.iterrows():\n",
    "    if pd.notna(row['country_v1']) and pd.notna(row['country_v2']) and row['country_v1'] != row['country_v2']:\n",
    "        LOGGER.warning(f\"Country mismatch for project '{row['project_name_v1']}' -> '{row['project_name_v2']}': \"\n",
    "                      f\"V1: {row['country_v1']} vs V2: {row['country_v2']}\")\n",
    "        country_mismatches.append({\n",
    "            'project': row['project_name_v1'],\n",
    "            'project_v2': row['project_name_v2'],\n",
    "            'country_v1': row['country_v1'],\n",
    "            'country_v2': row['country_v2']\n",
    "        })\n",
    "\n",
    "# Clean up the DataFrame\n",
    "comparison_df = comparison_df.drop('matching_name', axis=1)\n",
    "\n",
    "# Print manual matches that were successful\n",
    "successful_manual_matches = comparison_df[\n",
    "    comparison_df['project_name_v1'].isin(manual_matching.keys()) & \n",
    "    (comparison_df['_merge'] == 'both')\n",
    "]\n",
    "if not successful_manual_matches.empty:\n",
    "    print(\"\\nSuccessful manual matches:\")\n",
    "    for _, row in successful_manual_matches.iterrows():\n",
    "        print(f\"V1: '{row['project_name_v1']}' -> V2: '{row['project_name_v2']}'\")\n",
    "\n",
    "# Print country mismatches if any\n",
    "if country_mismatches:\n",
    "    print(\"\\nDetailed country mismatches:\")\n",
    "    for mismatch in country_mismatches:\n",
    "        print(f\"Project: {mismatch['project']} -> {mismatch['project_v2']}\")\n",
    "        print(f\"  V1 country: {mismatch['country_v1']}\")\n",
    "        print(f\"  V2 country: {mismatch['country_v2']}\")\n"
   ]
  },
  {
   "cell_type": "markdown",
   "metadata": {},
   "source": [
    "# Summary informations \n"
   ]
  },
  {
   "cell_type": "code",
   "execution_count": 9,
   "metadata": {},
   "outputs": [
    {
     "name": "stdout",
     "output_type": "stream",
     "text": [
      "\n",
      "Summary:\n",
      "Total projects in v1: 425\n",
      "Total projects in v2: 17\n",
      "Matched projects: 12\n",
      "Projects only in v1: 413\n",
      "Projects only in v2: 5\n",
      "Number of country mismatches: 0\n",
      "\n",
      "Projects only in V2:\n",
      "- Cambay Shale (India)\n",
      "- Tarim Basin Onshore (China)\n",
      "- Xi'nan-CNPC (China)\n",
      "- Xinjiang (China)\n",
      "- Yaan Slope Onshore Sichuan Province (China)\n"
     ]
    }
   ],
   "source": [
    "# Print summary\n",
    "print(f\"\\nSummary:\")\n",
    "print(f\"Total projects in v1: {len(df_v1)}\")\n",
    "print(f\"Total projects in v2: {len(df_v2)}\")\n",
    "print(f\"Matched projects: {len(comparison_df[comparison_df['_merge'] == 'both'])}\")\n",
    "print(f\"Projects only in v1: {len(comparison_df[comparison_df['_merge'] == 'left_only'])}\")\n",
    "print(f\"Projects only in v2: {len(comparison_df[comparison_df['_merge'] == 'right_only'])}\")\n",
    "print(f\"Number of country mismatches: {len(country_mismatches)}\")\n",
    "\n",
    "# Print projects only in V2\n",
    "v2_only = comparison_df[comparison_df['_merge'] == 'right_only']\n",
    "if not v2_only.empty:\n",
    "    print(\"\\nProjects only in V2:\")\n",
    "    for _, row in v2_only.iterrows():\n",
    "        print(f\"- {row['project_name_v2']} ({row['country_v2']})\")"
   ]
  },
  {
   "cell_type": "markdown",
   "metadata": {},
   "source": [
    "# Calculate difference between versions (Potential emissions and coordinates)"
   ]
  },
  {
   "cell_type": "code",
   "execution_count": 10,
   "metadata": {},
   "outputs": [
    {
     "name": "stdout",
     "output_type": "stream",
     "text": [
      "\n",
      "Emissions and Location Differences Summary:\n",
      "\n",
      "Emissions differences (for matched projects):\n",
      "Mean absolute difference: 0.81 GTCO2\n",
      "Max absolute difference: 4.56 GTCO2\n",
      "Projects with >10% difference: 7\n",
      "Projects:\n",
      "- Agha Jari: 28.5% difference (1.56 -> 2.01 GTCO2)\n",
      "- Changqing: -20.2% difference (4.94 -> 3.94 GTCO2)\n",
      "- Gachsaran: -15.0% difference (1.74 -> 1.48 GTCO2)\n",
      "- Goldwyer Shale: -36.9% difference (4.47 -> 2.82 GTCO2)\n",
      "- Longmaxi Shale: -80.1% difference (5.69 -> 1.13 GTCO2)\n",
      "- Sembar Shale: -13.3% difference (2.84 -> 2.46 GTCO2)\n",
      "- Tarim (CNPC): 21.4% difference (1.96 -> 2.38 GTCO2)\n",
      "\n",
      "Location differences (for matched projects):\n",
      "Mean distance between points: 746.24 km\n",
      "Max distance between points: 2164.33 km\n",
      "Projects with >10km difference: 10\n",
      "Projects:\n",
      "- Changqing: 163.3 km difference\n",
      "  V1 coordinates: (37.4467, 106.6668)\n",
      "  V2 coordinates: (36.1964, 107.6328)\n",
      "- Daqing: 2126.0 km difference\n",
      "  V1 coordinates: (34.9245, 104.9102)\n",
      "  V2 coordinates: (46.6207, 125.0040)\n",
      "- Goldwyer Shale: 1322.4 km difference\n",
      "  V1 coordinates: (-24.7784, 134.6872)\n",
      "  V2 coordinates: (-18.1000, 124.1000)\n",
      "- Gorgon LNG T1-T3: 2164.3 km difference\n",
      "  V1 coordinates: (-24.7149, 134.8261)\n",
      "  V2 coordinates: (-19.8333, 114.4667)\n",
      "- Longmaxi Shale: 762.8 km difference\n",
      "  V1 coordinates: (31.3453, 105.0073)\n",
      "  V2 coordinates: (31.0000, 113.0000)\n",
      "- Permian Midland Tight: 324.5 km difference\n",
      "  V1 coordinates: (33.3827, -100.0064)\n",
      "  V2 coordinates: (31.4768, -102.6244)\n",
      "- Sembar Shale: 588.0 km difference\n",
      "  V1 coordinates: (30.3308, 71.2475)\n",
      "  V2 coordinates: (25.4128, 69.0037)\n",
      "- Shengli: 33.5 km difference\n",
      "  V1 coordinates: (37.1771, 118.4754)\n",
      "  V2 coordinates: (37.4654, 118.5877)\n",
      "- Tarim (CNPC): 576.0 km difference\n",
      "  V1 coordinates: (40.9466, 82.2528)\n",
      "  V2 coordinates: (37.4663, 77.3037)\n",
      "- Velkerri Shale: 877.4 km difference\n",
      "  V1 coordinates: (-24.7808, 134.7776)\n",
      "  V2 coordinates: (-16.8652, 134.3762)\n"
     ]
    }
   ],
   "source": [
    "from geopy.distance import geodesic\n",
    "\n",
    "# Calculate distance between coordinates using geopy\n",
    "def calculate_distance(row):\n",
    "    \"\"\"Calculate the distance between two points in kilometers using geopy\"\"\"\n",
    "    if pd.isna(row['latitude_v1']) or pd.isna(row['longitude_v1']) or pd.isna(row['latitude_v2']) or pd.isna(row['longitude_v2']):\n",
    "        return None\n",
    "    \n",
    "    coords_1 = (row['latitude_v1'], row['longitude_v1'])\n",
    "    coords_2 = (row['latitude_v2'], row['longitude_v2'])\n",
    "    \n",
    "    return geodesic(coords_1, coords_2).kilometers\n",
    "\n",
    "# Calculate emissions difference (V2 - V1)\n",
    "comparison_df['emissions_difference'] = comparison_df['emissions_v2'] - comparison_df['emissions_v1']\n",
    "\n",
    "# Add percentage difference for emissions\n",
    "comparison_df['emissions_pct_difference'] = (\n",
    "    (comparison_df['emissions_v2'] - comparison_df['emissions_v1']) / \n",
    "    comparison_df['emissions_v1'] * 100\n",
    ").round(2)\n",
    "\n",
    "# Calculate distance difference (V2 - V1)\n",
    "comparison_df['distance_km'] = comparison_df.apply(calculate_distance, axis=1)\n",
    "\n",
    "# Print summary of differences\n",
    "print(\"\\nEmissions and Location Differences Summary:\")\n",
    "matched_projects = comparison_df[comparison_df['project_name_v2'].notna()]\n",
    "\n",
    "print(f\"\\nEmissions differences (for matched projects):\")\n",
    "print(f\"Mean absolute difference: {matched_projects['emissions_difference'].abs().mean():.2f} GTCO2\")\n",
    "print(f\"Max absolute difference: {matched_projects['emissions_difference'].abs().max():.2f} GTCO2\")\n",
    "\n",
    "# Projects with significant emissions differences\n",
    "projects_big_emission_diff = matched_projects[matched_projects['emissions_pct_difference'].abs() > 10]\n",
    "print(f\"Projects with >10% difference: {len(projects_big_emission_diff)}\")\n",
    "if not projects_big_emission_diff.empty:\n",
    "    print(\"Projects:\")\n",
    "    for _, row in projects_big_emission_diff.iterrows():\n",
    "        print(f\"- {row['project_name_v1']}: {row['emissions_pct_difference']:.1f}% difference \"\n",
    "              f\"({row['emissions_v1']:.2f} -> {row['emissions_v2']:.2f} GTCO2)\")\n",
    "\n",
    "print(f\"\\nLocation differences (for matched projects):\")\n",
    "print(f\"Mean distance between points: {matched_projects['distance_km'].mean():.2f} km\")\n",
    "print(f\"Max distance between points: {matched_projects['distance_km'].max():.2f} km\")\n",
    "\n",
    "# Projects with significant location differences\n",
    "projects_big_location_diff = matched_projects[matched_projects['distance_km'] > 10]\n",
    "print(f\"Projects with >10km difference: {len(projects_big_location_diff)}\")\n",
    "if not projects_big_location_diff.empty:\n",
    "    print(\"Projects:\")\n",
    "    for _, row in projects_big_location_diff.iterrows():\n",
    "        print(f\"- {row['project_name_v1']}: {row['distance_km']:.1f} km difference\")\n",
    "        print(f\"  V1 coordinates: ({row['latitude_v1']:.4f}, {row['longitude_v1']:.4f})\")\n",
    "        print(f\"  V2 coordinates: ({row['latitude_v2']:.4f}, {row['longitude_v2']:.4f})\")\n"
   ]
  },
  {
   "cell_type": "markdown",
   "metadata": {},
   "source": [
    "# Clean dataframe and save result "
   ]
  },
  {
   "cell_type": "code",
   "execution_count": 11,
   "metadata": {},
   "outputs": [],
   "source": [
    "# Clean up final DataFrame\n",
    "comparison_df = comparison_df.drop('_merge', axis=1)\n",
    "\n",
    "# Sort the DataFrame to group matched and unmatched projects\n",
    "comparison_df = comparison_df.sort_values(\n",
    "    by=['project_name_v1', 'project_name_v2'],\n",
    "    na_position='last'\n",
    ")\n",
    "\n",
    "# Save to CSV\n",
    "comparison_df.to_csv('carbon_bombs_comparison.csv', index=False, sep=';')"
   ]
  }
 ],
 "metadata": {
  "kernelspec": {
   "display_name": "venv",
   "language": "python",
   "name": "python3"
  },
  "language_info": {
   "codemirror_mode": {
    "name": "ipython",
    "version": 3
   },
   "file_extension": ".py",
   "mimetype": "text/x-python",
   "name": "python",
   "nbconvert_exporter": "python",
   "pygments_lexer": "ipython3",
   "version": "3.10.9"
  }
 },
 "nbformat": 4,
 "nbformat_minor": 2
}
