{
 "cells": [
  {
   "cell_type": "markdown",
   "id": "5336ce1d-5ca1-439f-b18e-ba06896319ad",
   "metadata": {},
   "source": [
    "# Check manual macth data"
   ]
  },
  {
   "cell_type": "code",
   "execution_count": 1,
   "id": "92e6433b-d554-4bca-95cb-d87b50fdc954",
   "metadata": {},
   "outputs": [],
   "source": [
    "%load_ext autoreload\n",
    "%autoreload 2"
   ]
  },
  {
   "cell_type": "markdown",
   "id": "607f5df8-2bf4-49e5-8b91-c429461c6392",
   "metadata": {},
   "source": [
    "## Import packages"
   ]
  },
  {
   "cell_type": "code",
   "execution_count": 8,
   "id": "15b26e2b-ad90-42a8-a70a-509888204351",
   "metadata": {},
   "outputs": [],
   "source": [
    "import pandas as pd\n",
    "import numpy as np\n",
    "from carbon_bombs.conf import FPATH_SRC_GEM_COAL, FPATH_SRC_GEM_GASOIL, FPATH_SRC_BOCC\n",
    "from carbon_bombs.io.banking_climate_chaos import load_banking_climate_chaos"
   ]
  },
  {
   "cell_type": "code",
   "execution_count": 3,
   "id": "cbc5aa45-513d-44c1-a1e3-79754481ce96",
   "metadata": {},
   "outputs": [],
   "source": [
    "from carbon_bombs.io.manual_match import manual_match_coal\n",
    "from carbon_bombs.io.manual_match import manual_match_bank\n",
    "from carbon_bombs.io.manual_match import manual_match_company\n",
    "from carbon_bombs.io.manual_match import manual_match_gasoil"
   ]
  },
  {
   "cell_type": "markdown",
   "id": "0f4e534f-c293-42d8-9ab4-004f4409c0df",
   "metadata": {},
   "source": [
    "## Load data"
   ]
  },
  {
   "cell_type": "code",
   "execution_count": 5,
   "id": "7d80d62e-fb1f-4081-b5d4-825738a086c8",
   "metadata": {},
   "outputs": [],
   "source": [
    "# GEM source\n",
    "gem_coal_df = pd.read_excel(FPATH_SRC_GEM_COAL, sheet_name='Global Coal Mine Tracker')\n",
    "gem_gasoil_df = pd.read_excel(FPATH_SRC_GEM_GASOIL, sheet_name='Main data',engine='openpyxl')"
   ]
  },
  {
   "cell_type": "code",
   "execution_count": 9,
   "id": "0cf60eee-b041-4d23-aa35-0d947da80057",
   "metadata": {},
   "outputs": [],
   "source": [
    "bocc_df = load_banking_climate_chaos()"
   ]
  },
  {
   "cell_type": "markdown",
   "id": "a9f6ee10-c7f2-4ecd-8e6e-3334b3b35654",
   "metadata": {},
   "source": [
    "## Check"
   ]
  },
  {
   "cell_type": "code",
   "execution_count": 13,
   "id": "6565f1a3-be69-4d85-a1f8-d8dc6f2144d3",
   "metadata": {},
   "outputs": [],
   "source": [
    "from carbon_bombs.io.manual_match import manual_match_coal\n",
    "from carbon_bombs.io.manual_match import manual_match_gasoil\n",
    "\n",
    "def check_manual_mathc_gem_id(manual_match, fuel):\n",
    "    if fuel == \"coal\":\n",
    "        names = gem_coal_df[\"Mine Name\"].unique()\n",
    "    else:\n",
    "        names = gem_gasoil_df[\"Unit name\"].unique()\n",
    "    \n",
    "    for cb, units in manual_match.items():\n",
    "        # if (\n",
    "        #     cb not in cb_df[\"Carbon_bomb_name_source_CB\"].values\n",
    "        # ) and (\n",
    "        #     \"Eagle Ford Shale\" not in cb and \"La Luna Shale\" not in cb\n",
    "        # ):\n",
    "        #     print(f\"CB Name not found: `{cb}`\")\n",
    "        #     continue\n",
    "            \n",
    "        units = units[:-1] if units.endswith(\"$\") else units\n",
    "        \n",
    "        for unit in units.split(\"$\"):\n",
    "            if unit not in names and unit not in [\"None\", \"\"]:\n",
    "                print(f\"{cb} - unit not found: {unit}\")\n",
    "#                 print(units)"
   ]
  },
  {
   "cell_type": "markdown",
   "id": "0c4e7955-94ff-4db3-821b-35b03a3a5e63",
   "metadata": {},
   "source": [
    "### Check on coal"
   ]
  },
  {
   "cell_type": "code",
   "execution_count": 14,
   "id": "75fe8bda-7860-4cd8-9cf7-d65eacd99e3f",
   "metadata": {},
   "outputs": [
    {
     "name": "stdout",
     "output_type": "stream",
     "text": [
      "Maritsa Coal Mines - unit not found: Troyanovo 3 Coal Mine\n"
     ]
    }
   ],
   "source": [
    "check_manual_mathc_gem_id(manual_match_coal, fuel=\"coal\")"
   ]
  },
  {
   "cell_type": "markdown",
   "id": "6ae574a3-3959-40ac-8e4b-0553f63d3ed9",
   "metadata": {},
   "source": [
    "### Check on gasoil"
   ]
  },
  {
   "cell_type": "code",
   "execution_count": 15,
   "id": "8fbc2d41-8ea0-4139-b3e2-e864ba78fdf8",
   "metadata": {},
   "outputs": [
    {
     "name": "stdout",
     "output_type": "stream",
     "text": [
      "Umm Shaif/Nasr - unit not found: Nasr Oil Field\n",
      "Umm Shaif/Nasr - unit not found: Umm Shaif Oil Field\n"
     ]
    }
   ],
   "source": [
    "check_manual_mathc_gem_id(manual_match_gasoil, fuel=\"gasoil\")"
   ]
  },
  {
   "cell_type": "markdown",
   "id": "f2f48172-f7f1-4a22-934c-03a4c0be0efd",
   "metadata": {},
   "source": [
    "## Check on bank"
   ]
  },
  {
   "cell_type": "code",
   "execution_count": 17,
   "id": "afb8237e-554d-4196-ba62-c3d749419a89",
   "metadata": {},
   "outputs": [],
   "source": [
    "for key, value in manual_match_bank.items():\n",
    "    if value not in bocc_df[\"Bank\"].unique():\n",
    "        print(f\"`{value}` not in BOCC Bank\")"
   ]
  },
  {
   "cell_type": "markdown",
   "id": "5f927a75-0084-4b2d-9302-fde6ee781fd6",
   "metadata": {},
   "source": [
    "## Check on companies"
   ]
  },
  {
   "cell_type": "code",
   "execution_count": 23,
   "id": "c423fd6c-74d4-4784-97ea-ef07b4ed5c5f",
   "metadata": {},
   "outputs": [],
   "source": [
    "from carbon_bombs.utils.match_company_bocc import clean\n",
    "from carbon_bombs.utils.match_company_bocc import fuzz"
   ]
  },
  {
   "cell_type": "code",
   "execution_count": 25,
   "id": "95b9ca14-4f6d-48c7-887b-7a0e77476d8b",
   "metadata": {},
   "outputs": [],
   "source": [
    "bocc_df[\"Company_cleaned\"] = bocc_df[\"Company\"].apply(clean)\n",
    "clean_comp_df = bocc_df[[\"Company\", \"Company_cleaned\"]].drop_duplicates().reset_index(drop=True)\n",
    "clean_comp = clean_comp_df[\"Company_cleaned\"].values"
   ]
  },
  {
   "cell_type": "code",
   "execution_count": 29,
   "id": "5b71d8ea-be15-45c4-8a3e-253fa3c9799f",
   "metadata": {},
   "outputs": [
    {
     "name": "stdout",
     "output_type": "stream",
     "text": [
      "`BPX Operating` not in BOCC Companies\n",
      "Best fuzz score found for this company: `APR Operating LLC` (score = 74)\n",
      "\n",
      "`BPX Operating` not in BOCC Companies\n",
      "Best fuzz score found for this company: `APR Operating LLC` (score = 74)\n",
      "\n",
      "`Ballard Petroleum Holding` not in BOCC Companies\n",
      "Best fuzz score found for this company: `Tamar Petroleum Ltd` (score = 80)\n",
      "\n",
      "`COG Operating` not in BOCC Companies\n",
      "Best fuzz score found for this company: `PPC Operating Co LLC` (score = 74)\n",
      "\n",
      "`China Cinda Asset Management` not in BOCC Companies\n",
      "Best fuzz score found for this company: `Xinzhou Asset Management Group Co Ltd` (score = 72)\n",
      "\n",
      "`Cimarex Energy ` not in BOCC Companies\n",
      "Best fuzz score found for this company: `Crew Energy Inc` (score = 78)\n",
      "\n",
      "`Kaiser Francis Oil Co ` not in BOCC Companies\n",
      "Best fuzz score found for this company: `Sheridan Holding Co II LLC` (score = 55)\n",
      "\n",
      "`Mewbourne Oil Company` not in BOCC Companies\n",
      "Best fuzz score found for this company: `Tourmaline Oil Corp` (score = 64)\n",
      "\n"
     ]
    }
   ],
   "source": [
    "for key, value in manual_match_company.items():\n",
    "    if value not in bocc_df[\"Company\"].unique():\n",
    "        print(f\"`{value}` not in BOCC Companies\")\n",
    "        \n",
    "        ratio = [fuzz.ratio(x, clean(value)) for x in clean_comp]\n",
    "        best_id = np.argmax(ratio)\n",
    "        best_match_val = clean_comp_df.loc[best_id, \"Company\"]\n",
    "        print(f\"Best fuzz score found for this company: `{best_match_val}` (score = {ratio[best_id]})\")\n",
    "        print()"
   ]
  },
  {
   "cell_type": "code",
   "execution_count": null,
   "id": "155672f5-6c4b-401d-a897-e53c1511beb5",
   "metadata": {},
   "outputs": [],
   "source": []
  }
 ],
 "metadata": {
  "kernelspec": {
   "display_name": "carbon_bombs",
   "language": "python",
   "name": "carbon_bombs"
  },
  "language_info": {
   "codemirror_mode": {
    "name": "ipython",
    "version": 3
   },
   "file_extension": ".py",
   "mimetype": "text/x-python",
   "name": "python",
   "nbconvert_exporter": "python",
   "pygments_lexer": "ipython3",
   "version": "3.10.11"
  }
 },
 "nbformat": 4,
 "nbformat_minor": 5
}
