{
 "cells": [
  {
   "cell_type": "markdown",
   "id": "2f0be3f6-94b4-458f-8360-c09e506ef717",
   "metadata": {},
   "source": [
    "# Quality check for each cleaned dataset"
   ]
  },
  {
   "cell_type": "markdown",
   "id": "c7f59170-d23a-4eb0-b652-fcf20dc80ae6",
   "metadata": {},
   "source": [
    "## Import packages "
   ]
  },
  {
   "cell_type": "code",
   "execution_count": 1,
   "id": "a4d25a48-d55d-4817-9838-fdb7054331bb",
   "metadata": {},
   "outputs": [],
   "source": [
    "import pandas as pd\n",
    "import numpy as np\n",
    "from openpyxl import load_workbook\n",
    "import itertools"
   ]
  },
  {
   "cell_type": "markdown",
   "id": "737a8422-949c-4711-8ab2-1c84fdf52099",
   "metadata": {},
   "source": [
    "## sheet names"
   ]
  },
  {
   "cell_type": "code",
   "execution_count": 2,
   "id": "6e88d748-770f-430e-bf36-9c7e444cde45",
   "metadata": {},
   "outputs": [],
   "source": [
    "f = load_workbook(\"data_cleaned/carbon_bombs_all_datasets.xlsx\")\n",
    "sheet_names = f.sheetnames"
   ]
  },
  {
   "cell_type": "code",
   "execution_count": 3,
   "id": "1e6e646b-365f-403e-b2b8-a85bc9449efe",
   "metadata": {},
   "outputs": [
    {
     "data": {
      "text/plain": [
       "['carbon_bombs_informations',\n",
       " 'metadatas',\n",
       " 'company_informations',\n",
       " 'bank_informations',\n",
       " 'connexion_bank_company',\n",
       " 'connexion_carbonbombs_company',\n",
       " 'country_informations']"
      ]
     },
     "execution_count": 3,
     "metadata": {},
     "output_type": "execute_result"
    }
   ],
   "source": [
    "sheet_names"
   ]
  },
  {
   "cell_type": "markdown",
   "id": "66907a8b-4c26-4ddc-a900-9d3c16f608a1",
   "metadata": {},
   "source": [
    "Load all datasets"
   ]
  },
  {
   "cell_type": "code",
   "execution_count": 17,
   "id": "514e8978-cad9-445f-bb1c-4c605db97f88",
   "metadata": {},
   "outputs": [],
   "source": [
    "bank_df = pd.read_excel(\"data_cleaned/carbon_bombs_all_datasets.xlsx\", sheet_name=\"bank_informations\")\n",
    "cb_df = pd.read_excel(\"data_cleaned/carbon_bombs_all_datasets.xlsx\", sheet_name=\"carbon_bombs_informations\")\n",
    "comp_df = pd.read_excel(\"data_cleaned/carbon_bombs_all_datasets.xlsx\", sheet_name=\"company_informations\")\n",
    "cnx_bank_comp_df = pd.read_excel(\"data_cleaned/carbon_bombs_all_datasets.xlsx\", sheet_name=\"connexion_bank_company\")\n",
    "cnx_cb_comp_df = pd.read_excel(\"data_cleaned/carbon_bombs_all_datasets.xlsx\", sheet_name=\"connexion_carbonbombs_company\")\n",
    "countries_df = pd.read_excel(\"data_cleaned/carbon_bombs_all_datasets.xlsx\", sheet_name=\"country_informations\")\n",
    "metadatas = pd.read_excel(\"data_cleaned/carbon_bombs_all_datasets.xlsx\", sheet_name=\"metadatas\")"
   ]
  },
  {
   "cell_type": "markdown",
   "id": "28ecccdc-efb2-4e76-ad0a-504caff92e63",
   "metadata": {
    "tags": []
   },
   "source": [
    "## Check on bank_informations\n",
    "\n",
    "- Impossible to check source it's online\n",
    "- all bank name is in `connexion_bank_company`"
   ]
  },
  {
   "cell_type": "code",
   "execution_count": 18,
   "id": "98a30206-cb9a-4a04-b525-0ce1b69a36ed",
   "metadata": {},
   "outputs": [
    {
     "data": {
      "text/html": [
       "<div>\n",
       "<style scoped>\n",
       "    .dataframe tbody tr th:only-of-type {\n",
       "        vertical-align: middle;\n",
       "    }\n",
       "\n",
       "    .dataframe tbody tr th {\n",
       "        vertical-align: top;\n",
       "    }\n",
       "\n",
       "    .dataframe thead th {\n",
       "        text-align: right;\n",
       "    }\n",
       "</style>\n",
       "<table border=\"1\" class=\"dataframe\">\n",
       "  <thead>\n",
       "    <tr style=\"text-align: right;\">\n",
       "      <th></th>\n",
       "      <th>Bank Name</th>\n",
       "      <th>Bank Website</th>\n",
       "      <th>Headquarters address</th>\n",
       "      <th>Headquarters country</th>\n",
       "      <th>CEO Name</th>\n",
       "      <th>Board description</th>\n",
       "      <th>Supervisor Name</th>\n",
       "      <th>Supervisor Website</th>\n",
       "      <th>Shareholder structure source</th>\n",
       "      <th>Source BankTrack</th>\n",
       "      <th>Latitude</th>\n",
       "      <th>Longitude</th>\n",
       "      <th>Bank logo</th>\n",
       "      <th>World Region</th>\n",
       "    </tr>\n",
       "  </thead>\n",
       "  <tbody>\n",
       "    <tr>\n",
       "      <th>0</th>\n",
       "      <td>ANZ</td>\n",
       "      <td>http://www.anz.com.au</td>\n",
       "      <td>833 Collins Street, Docklands,3008 Melbourne</td>\n",
       "      <td>Australia</td>\n",
       "      <td>Shayne Elliott</td>\n",
       "      <td>http://shareholder.anz.com/personnel/shayne-el...</td>\n",
       "      <td>Reserve Bank of Australia</td>\n",
       "      <td>http://www.rba.gov.au/</td>\n",
       "      <td>https://www.marketscreener.com/AUSTRALIA-AND-N...</td>\n",
       "      <td>https://www.banktrack.org/bank/anz</td>\n",
       "      <td>-37.821942</td>\n",
       "      <td>144.945525</td>\n",
       "      <td>https://www.banktrack.org/thumbimage.php?image...</td>\n",
       "      <td>Oceania</td>\n",
       "    </tr>\n",
       "    <tr>\n",
       "      <th>5</th>\n",
       "      <td>Bank of America</td>\n",
       "      <td>http://www.bankofamerica.com</td>\n",
       "      <td>100 North Tryon Street,28255 Charlotte, NC</td>\n",
       "      <td>United States</td>\n",
       "      <td>Brian T. Moynihan</td>\n",
       "      <td>https://about.bankofamerica.com/en-us/who-we-a...</td>\n",
       "      <td>Federal Reserve</td>\n",
       "      <td>http://www.federalreserve.gov/</td>\n",
       "      <td>https://www.nasdaq.com/symbol/bac/ownership-su...</td>\n",
       "      <td>https://www.banktrack.org/bank/bank_of_america</td>\n",
       "      <td>35.227393</td>\n",
       "      <td>-80.842169</td>\n",
       "      <td>https://www.banktrack.org/thumbimage.php?image...</td>\n",
       "      <td>North America</td>\n",
       "    </tr>\n",
       "    <tr>\n",
       "      <th>34</th>\n",
       "      <td>MUFG</td>\n",
       "      <td>http://www.bk.mufg.jp/global/</td>\n",
       "      <td>7-1 Marunouchi 2-Chome Chiyoda,100-0005  Tokyo</td>\n",
       "      <td>Japan</td>\n",
       "      <td>Junichi Hanzawa</td>\n",
       "      <td>http://www.bk.mufg.jp/global/aboutus/managemen...</td>\n",
       "      <td>Bank of Japan</td>\n",
       "      <td>http://www.boj.or.jp/en/</td>\n",
       "      <td>https://www.marketscreener.com/MITSUBISHI-UFJ-...</td>\n",
       "      <td>https://www.banktrack.org/bank/bank_of_tokyo_m...</td>\n",
       "      <td>35.680054</td>\n",
       "      <td>139.763022</td>\n",
       "      <td>https://www.banktrack.org/thumbimage.php?image...</td>\n",
       "      <td>Asia</td>\n",
       "    </tr>\n",
       "    <tr>\n",
       "      <th>13</th>\n",
       "      <td>China Construction Bank</td>\n",
       "      <td>http://en.ccb.com/en/home/indexv3.html</td>\n",
       "      <td>25 Finance Street, Xicheng District,Beijing</td>\n",
       "      <td>China</td>\n",
       "      <td>Tian Guoli</td>\n",
       "      <td>http://en.ccb.com/en/investorv3/biographiesofd...</td>\n",
       "      <td>China Banking and Investment Regulatory Commis...</td>\n",
       "      <td>https://www.cbirc.gov.cn/en/view/pages/index/i...</td>\n",
       "      <td>http://www.huijin-inv.cn/wps/portal/!ut/p/a1/0...</td>\n",
       "      <td>https://www.banktrack.org/bank/china_construct...</td>\n",
       "      <td>39.907110</td>\n",
       "      <td>116.374150</td>\n",
       "      <td>https://www.banktrack.org/thumbimage.php?image...</td>\n",
       "      <td>Asia</td>\n",
       "    </tr>\n",
       "    <tr>\n",
       "      <th>44</th>\n",
       "      <td>Rabobank</td>\n",
       "      <td>http://www.rabobank.nl</td>\n",
       "      <td>Croeselaan 18,3521 CB Utrecht</td>\n",
       "      <td>Netherlands</td>\n",
       "      <td>Stefaan Decraene</td>\n",
       "      <td>https://www.rabobank.nl/over-ons/organisatie/o...</td>\n",
       "      <td>De Nederlandsche Bank</td>\n",
       "      <td>http://www.dnb.nl</td>\n",
       "      <td>https://www.rabobank.com/nl/about-rabobank/coo...</td>\n",
       "      <td>https://www.banktrack.org/bank/rabobank</td>\n",
       "      <td>52.086422</td>\n",
       "      <td>5.109218</td>\n",
       "      <td>https://www.banktrack.org/thumbimage.php?image...</td>\n",
       "      <td>Europe</td>\n",
       "    </tr>\n",
       "  </tbody>\n",
       "</table>\n",
       "</div>"
      ],
      "text/plain": [
       "                  Bank Name                            Bank Website  \\\n",
       "0                       ANZ                   http://www.anz.com.au   \n",
       "5           Bank of America            http://www.bankofamerica.com   \n",
       "34                     MUFG           http://www.bk.mufg.jp/global/   \n",
       "13  China Construction Bank  http://en.ccb.com/en/home/indexv3.html   \n",
       "44                 Rabobank                  http://www.rabobank.nl   \n",
       "\n",
       "                              Headquarters address Headquarters country  \\\n",
       "0     833 Collins Street, Docklands,3008 Melbourne            Australia   \n",
       "5       100 North Tryon Street,28255 Charlotte, NC        United States   \n",
       "34  7-1 Marunouchi 2-Chome Chiyoda,100-0005  Tokyo                Japan   \n",
       "13     25 Finance Street, Xicheng District,Beijing                China   \n",
       "44                   Croeselaan 18,3521 CB Utrecht          Netherlands   \n",
       "\n",
       "             CEO Name                                  Board description  \\\n",
       "0      Shayne Elliott  http://shareholder.anz.com/personnel/shayne-el...   \n",
       "5   Brian T. Moynihan  https://about.bankofamerica.com/en-us/who-we-a...   \n",
       "34    Junichi Hanzawa  http://www.bk.mufg.jp/global/aboutus/managemen...   \n",
       "13         Tian Guoli  http://en.ccb.com/en/investorv3/biographiesofd...   \n",
       "44   Stefaan Decraene  https://www.rabobank.nl/over-ons/organisatie/o...   \n",
       "\n",
       "                                      Supervisor Name  \\\n",
       "0                           Reserve Bank of Australia   \n",
       "5                                     Federal Reserve   \n",
       "34                                      Bank of Japan   \n",
       "13  China Banking and Investment Regulatory Commis...   \n",
       "44                              De Nederlandsche Bank   \n",
       "\n",
       "                                   Supervisor Website  \\\n",
       "0                              http://www.rba.gov.au/   \n",
       "5                      http://www.federalreserve.gov/   \n",
       "34                           http://www.boj.or.jp/en/   \n",
       "13  https://www.cbirc.gov.cn/en/view/pages/index/i...   \n",
       "44                                  http://www.dnb.nl   \n",
       "\n",
       "                         Shareholder structure source  \\\n",
       "0   https://www.marketscreener.com/AUSTRALIA-AND-N...   \n",
       "5   https://www.nasdaq.com/symbol/bac/ownership-su...   \n",
       "34  https://www.marketscreener.com/MITSUBISHI-UFJ-...   \n",
       "13  http://www.huijin-inv.cn/wps/portal/!ut/p/a1/0...   \n",
       "44  https://www.rabobank.com/nl/about-rabobank/coo...   \n",
       "\n",
       "                                     Source BankTrack   Latitude   Longitude  \\\n",
       "0                  https://www.banktrack.org/bank/anz -37.821942  144.945525   \n",
       "5      https://www.banktrack.org/bank/bank_of_america  35.227393  -80.842169   \n",
       "34  https://www.banktrack.org/bank/bank_of_tokyo_m...  35.680054  139.763022   \n",
       "13  https://www.banktrack.org/bank/china_construct...  39.907110  116.374150   \n",
       "44            https://www.banktrack.org/bank/rabobank  52.086422    5.109218   \n",
       "\n",
       "                                            Bank logo   World Region  \n",
       "0   https://www.banktrack.org/thumbimage.php?image...        Oceania  \n",
       "5   https://www.banktrack.org/thumbimage.php?image...  North America  \n",
       "34  https://www.banktrack.org/thumbimage.php?image...           Asia  \n",
       "13  https://www.banktrack.org/thumbimage.php?image...           Asia  \n",
       "44  https://www.banktrack.org/thumbimage.php?image...         Europe  "
      ]
     },
     "execution_count": 18,
     "metadata": {},
     "output_type": "execute_result"
    }
   ],
   "source": [
    "bank_df.sample(5, random_state=42)"
   ]
  },
  {
   "cell_type": "code",
   "execution_count": 19,
   "id": "d403f2f8-f852-45f9-9f5a-aa6ee2926372",
   "metadata": {},
   "outputs": [],
   "source": [
    "banks = set(bank_df[\"Bank Name\"])\n",
    "banks_conx = set(cnx_bank_comp_df[\"Bank\"])\n",
    "\n",
    "assert len(banks - banks_conx) == 0"
   ]
  },
  {
   "cell_type": "markdown",
   "id": "406506d3-bf08-4f1a-9bb4-e5f477c3250e",
   "metadata": {},
   "source": [
    "## Check on carbon_bombs_information\n",
    "- len == 425\n",
    "- Status_source_CB \n",
    "    - is \"operating\" or \"not started\"\n",
    "    - match new project \"*\" in orig file\n",
    "- Carbon_bomb_name_source_CB \n",
    "    - match all CB name in orig file\n",
    "    - full match cnx cb comp\n",
    "- Country_source_CB\n",
    "    - match all CB country in orig file\n",
    "- Potential_GtCO2_source_CB\n",
    "    - match all CB column in orig file\n",
    "- Fuel_type_source_CB\n",
    "    - match all CB column in orig file\n",
    "- GEM_id_source_GEM :\n",
    "    - Values in unit id in mine or gasoil source OR no information\n",
    "    - show number of no information\n",
    "- GEM_url_source_GEM :\n",
    "    - Values in unit url in mine or gasoil source OR no information\n",
    "    - show number of no information\n",
    "    - match GEM_id_source_GEM for number of no information\n",
    "- Latitude, Longitude :\n",
    "    - no missing value or 0, 0\n",
    "    - no dupplicated rows\n",
    "- Latitude_longitude_source :\n",
    "    - values are GEM or Country CB\n",
    "    - no missing values\n",
    "- Operators_source_GEM :\n",
    "    - Split |\n",
    "    - merge GEM id and check same operators\n",
    "    - show amount of \"\" or None\n",
    "- Parent_company_source_GEM :\n",
    "    - nb of \"\" is same than Operators_source_GEM NAN\n",
    "    - show amount of \"\" or None\n",
    "    - find same companies (TODO)\n",
    "- Companies_involved_source_GEM :\n",
    "    - if Parent_company_source_GEM == \"\" or None in Parent_company_source_GEM then Parent_company_source_GEM else Operators_source_GEM\n",
    "- Multiple_unit_concerned_source_GEM :\n",
    "    - not empty only if ; in GEM_id_source_GEM (same number of ; and |)\n",
    "    - if | in Operators_source_GEM not empty (same number of |)\n",
    "    - if | in Parent_company_source_GEM not empty (same number of |)\n",
    "- Status_source_GEM\n",
    "    - match all CB column in orig file\n",
    "- Status_lvl_1\n",
    "- Status_lvl_2"
   ]
  },
  {
   "cell_type": "code",
   "execution_count": 20,
   "id": "3495c6f8-51a8-40c1-abe8-4348aa6d5fc1",
   "metadata": {},
   "outputs": [
    {
     "data": {
      "text/plain": [
       "Carbon_bomb_name_source_CB            0.000000\n",
       "Country_source_CB                     0.000000\n",
       "World_region                          0.000000\n",
       "Potential_GtCO2_source_CB             0.000000\n",
       "Fuel_type_source_CB                   0.000000\n",
       "GEM_id_source_GEM                     0.000000\n",
       "GEM_url_source_GEM                    0.000000\n",
       "Latitude                              0.000000\n",
       "Longitude                             0.000000\n",
       "Latitude_longitude_source             0.000000\n",
       "Operators_source_GEM                  0.214118\n",
       "Parent_company_source_GEM             0.000000\n",
       "Companies_involved_source_GEM         0.000000\n",
       "Multiple_unit_concerned_source_GEM    0.960000\n",
       "Carbon_bomb_description               0.000000\n",
       "Carbon_bomb_start_year                0.000000\n",
       "Status_source_CB                      0.000000\n",
       "Status_source_GEM                     0.200000\n",
       "Status_lvl_1                          0.000000\n",
       "Status_lvl_2                          0.000000\n",
       "dtype: float64"
      ]
     },
     "execution_count": 20,
     "metadata": {},
     "output_type": "execute_result"
    }
   ],
   "source": [
    "cb_df.isna().mean()"
   ]
  },
  {
   "cell_type": "code",
   "execution_count": 21,
   "id": "8b0c6c22-e7fb-46d2-8eac-7ea66862c992",
   "metadata": {},
   "outputs": [],
   "source": [
    "from carbon_bomb import load_carbon_bomb_coal_database, load_carbon_bomb_gasoil_database"
   ]
  },
  {
   "cell_type": "code",
   "execution_count": 22,
   "id": "e21a324c-3fcd-481a-9387-8860df512ac2",
   "metadata": {},
   "outputs": [],
   "source": [
    "# CB source\n",
    "cb_gasoil_source_df = pd.read_excel(\"data_sources/1-s2.0-S0301421522001756-mmc2.xlsx\", sheet_name=\"Oil&Gas\", skipfooter = 4,skiprows=1)\n",
    "cb_gasoil_source_df = cb_gasoil_source_df.loc[:,[\"New\",\"Project\",\"Country\",\"Gt CO2\"]]\n",
    "cb_gasoil_source_df.columns = [\"New\",\"Project Name\",\"Country\",\"Potential emissions (GtCO2)\"]\n",
    "cb_gasoil_source_df[\"Fuel\"] = \"Oil&Gas\"\n",
    "cb_gasoil_source_df['Country'] = cb_gasoil_source_df['Country'].replace({\n",
    "    'Russian Federation': 'Russia',\n",
    "    'Turkey': 'Türkiye',\n",
    "    'Saudi-Arabia':'Saudi Arabia',\n",
    "    'Kuwait-Saudi-Arabia-Neutral Zone':'Kuwait' # see Readme to get the details of this choice\n",
    "})\n",
    "\n",
    "cb_coal_source_df = pd.read_excel(\"data_sources/1-s2.0-S0301421522001756-mmc2.xlsx\", sheet_name=\"Coal\", skipfooter = 3)\n",
    "cb_coal_source_df = cb_coal_source_df.loc[:,[\"New\",\"Project Name\",\"Country\", \"Potential emissions (GtCO2)\",\"Fuel\"]]\n",
    "cb_coal_source_df['Country'] = cb_coal_source_df['Country'].replace({'Russian Federation': 'Russia',\n",
    "                                       'Turkey': 'Türkiye'})\n",
    "\n",
    "cb_source_df = pd.concat([cb_coal_source_df, cb_gasoil_source_df])\n",
    "cb_source_df[\"Project Name\"] = cb_source_df[\"Project Name\"].str.strip()"
   ]
  },
  {
   "cell_type": "code",
   "execution_count": 23,
   "id": "75cb56bf-20be-458b-9768-26f11d855ea0",
   "metadata": {},
   "outputs": [
    {
     "name": "stderr",
     "output_type": "stream",
     "text": [
      "C:\\Users\\natha\\apps\\miniforge3\\envs\\carbon_bombs\\lib\\site-packages\\openpyxl\\worksheet\\_reader.py:329: UserWarning: Unknown extension is not supported and will be removed\n",
      "  warn(msg)\n"
     ]
    }
   ],
   "source": [
    "# GEM source\n",
    "gem_coal_df = pd.read_excel(\"./data_sources/Global-Coal-Mine-Tracker-April-2023.xlsx\", sheet_name='Global Coal Mine Tracker')\n",
    "gem_gasoil_df = pd.read_excel(\"data_sources/Global-Oil-and-Gas-Extraction-Tracker-Feb-2023.xlsx\", sheet_name='Main data',engine='openpyxl')"
   ]
  },
  {
   "cell_type": "code",
   "execution_count": 24,
   "id": "c0e6bf84-790e-46f8-8ab4-1039b41f610a",
   "metadata": {},
   "outputs": [
    {
     "name": "stdout",
     "output_type": "stream",
     "text": [
      "Nb of 'no information' for GEM_id_source_GEM: 83\n"
     ]
    }
   ],
   "source": [
    "# - len == 425\n",
    "assert len(cb_df) == 425\n",
    "\n",
    "# merge with CB source\n",
    "merge = cb_df.merge(\n",
    "    cb_source_df, left_on=[\"Carbon_bomb_name_source_CB\", \"Country_source_CB\"], right_on=[\"Project Name\", \"Country\"], how=\"inner\"\n",
    ")\n",
    "assert len(merge) == len(cb_df)\n",
    "\n",
    "# - Status_source_CB \n",
    "#     - is \"operating\" or \"not started\"\n",
    "#     - match new project \"*\" in orig file\n",
    "assert cb_df[\"Status_source_CB\"].isna().sum() == 0\n",
    "assert set(cb_df[\"Status_source_CB\"].unique()) == {\"operating\", \"not started\"}\n",
    "assert all((merge[\"New\"] == \"*\") == (merge[\"Status_source_CB\"] == \"not started\"))\n",
    "assert all((merge[\"New\"] != \"*\") == (merge[\"Status_source_CB\"] == \"operating\"))\n",
    "\n",
    "# - Carbon_bomb_name_source_CB \n",
    "#     - match all CB name in orig file\n",
    "#     - full match cnx cb comp\n",
    "assert set(cb_df[\"Carbon_bomb_name_source_CB\"]) == set(cb_source_df[\"Project Name\"])\n",
    "# TODO : check for CB with only Others..\n",
    "# cb_df.loc[~cb_df[\"Carbon_bomb_name_source_CB\"].isin(cnx_cb_comp_df[\"Carbon_bomb_name\"])]\n",
    "# assert set(cb_df[\"Carbon_bomb_name_source_CB\"]) == set(cnx_cb_comp_df[\"Carbon_bomb_name\"])\n",
    "\n",
    "# - Country_source_CB\n",
    "#     - match all CB country in orig file\n",
    "assert all((merge[\"Country\"] == merge[\"Country_source_CB\"]))\n",
    "\n",
    "# - Potential_GtCO2_source_CB\n",
    "#     - match all CB column in orig file\n",
    "assert all((merge[\"Potential emissions (GtCO2)\"] == merge[\"Potential_GtCO2_source_CB\"]))\n",
    "\n",
    "# - Fuel_type_source_CB\n",
    "#     - match all CB column in orig file\n",
    "assert all((merge[\"Fuel\"] == merge[\"Fuel_type_source_CB\"]))\n",
    "\n",
    "# - GEM_id_source_GEM :\n",
    "#     - Values in unit id in mine or gasoil source OR no information\n",
    "#     - show number of no information\n",
    "units = cb_df[\"GEM_id_source_GEM\"].str.split('|')\n",
    "units = set(itertools.chain(*units))\n",
    "assert len(\n",
    "    units - set(gem_coal_df[\"Mine IDs\"]) - set(gem_gasoil_df[\"Unit ID\"]) - {\"No informations available on GEM\"}\n",
    ") == 0\n",
    "print(\"Nb of 'no information' for GEM_id_source_GEM:\", sum(cb_df[\"GEM_id_source_GEM\"] == \"No informations available on GEM\"))\n",
    "\n",
    "# - GEM_url_source_GEM :\n",
    "#     - Values in unit url in mine or gasoil source OR no information\n",
    "#     - show number of no information\n",
    "#     - match GEM_id_source_GEM for number of no information\n",
    "url = cb_df[\"GEM_url_source_GEM\"].str.split('|')\n",
    "url = set(itertools.chain(*url))\n",
    "assert len(\n",
    "    url - set(gem_coal_df[\"GEM Wiki Page (ENG)\"]) - set(gem_gasoil_df[\"Wiki URL\"]) - {\"No informations available on GEM\"}\n",
    ") == 0\n",
    "assert all(\n",
    "    (\n",
    "        cb_df[\"GEM_url_source_GEM\"] == \"No informations available on GEM\"\n",
    "    ) == (\n",
    "        cb_df[\"GEM_id_source_GEM\"] == \"No informations available on GEM\"\n",
    "    )\n",
    ")\n",
    "\n",
    "# - Latitude, Longitude :\n",
    "#     - no missing value or 0, 0\n",
    "#     - no dupplicated rows\n",
    "assert cb_df[\"Latitude\"].isna().sum() == 0\n",
    "assert cb_df[\"Longitude\"].isna().sum() == 0\n",
    "assert cb_df[[\"Latitude\", \"Longitude\"]].duplicated().sum() == 0\n",
    "\n",
    "# - Latitude_longitude_source :\n",
    "#     - values are GEM or Country CB\n",
    "#     - no missing values\n",
    "assert cb_df[\"Latitude_longitude_source\"].isna().sum() == 0\n",
    "if not set(cb_df[\"Latitude_longitude_source\"]) == {\"GEM\", \"Country CB\"}:\n",
    "    print(set(cb_df[\"Latitude_longitude_source\"]))\n",
    "\n",
    "# - Operators_source_GEM :\n",
    "#     - Split |\n",
    "#     - merge GEM id and check same operators\n",
    "#     - show amount of \"\" or None\n",
    "a = gem_coal_df[[\"Mine IDs\", \"Operators\"]]\n",
    "b = gem_gasoil_df[[\"Unit ID\", \"Operator\"]]\n",
    "a.columns = [\"ID\", \"Operator\"]\n",
    "b.columns = [\"ID\", \"Operator\"]\n",
    "gem_id_df = pd.concat([a, b])\n",
    "\n",
    "def match_gem_id_to_operator(x):\n",
    "    if x == [\"No informations available on GEM\"]:\n",
    "        return [\"None\"]\n",
    "    \n",
    "    res = []\n",
    "    for unit_id in x:\n",
    "        ope = gem_id_df.loc[gem_id_df[\"ID\"] == unit_id, \"Operator\"].fillna(\"None\").values[0]\n",
    "        res.append(ope)\n",
    "    \n",
    "    return res\n",
    "    \n",
    "operators = cb_df[\"Operators_source_GEM\"].fillna(\"None\").str.split('|')\n",
    "assert all(\n",
    "    operators == cb_df[\"GEM_id_source_GEM\"].str.split('|').apply(match_gem_id_to_operator)\n",
    ")\n",
    "\n",
    "# - Parent_company_source_GEM :\n",
    "#     - show amount of \"\" or None\n",
    "#     - find same companies (TODO)\n",
    "\n",
    "# - Companies_involved_source_GEM :\n",
    "#     - if Parent_company_source_GEM == \"\" or None in Parent_company_source_GEM then Parent_company_source_GEM else Operators_source_GEM\n",
    "# problem \n",
    "# assert all(\n",
    "#     cb_df[\"Companies_involved_source_GEM\"] == np.where(\n",
    "#         cb_df[\"Parent_company_source_GEM\"] == \"No informations on company (100.0%)\",\n",
    "#         cb_df[\"Operators_source_GEM\"],\n",
    "#         cb_df[\"Parent_company_source_GEM\"]\n",
    "#     )\n",
    "# )\n",
    "\n",
    "# - Multiple_unit_concerned_source_GEM :\n",
    "#     - not empty only if ; in GEM_id_source_GEM (same number of ; and |)\n",
    "#     - if | in Operators_source_GEM not empty (same number of |)\n",
    "#     - if | in Parent_company_source_GEM not empty (same number of |)\n",
    "# - Status_source_GEM\n",
    "#     - match all CB column in orig file\n",
    "# - Status_lvl_1\n",
    "# - Status_lvl_2\n"
   ]
  },
  {
   "cell_type": "markdown",
   "id": "3a6b9e2c-22bd-44fa-9862-4703c4de5098",
   "metadata": {},
   "source": [
    "## Check on company_informations"
   ]
  },
  {
   "cell_type": "code",
   "execution_count": 25,
   "id": "fbb1fe62-2120-49ca-aedb-c3f7df037548",
   "metadata": {},
   "outputs": [],
   "source": [
    "# bank_df"
   ]
  },
  {
   "cell_type": "code",
   "execution_count": null,
   "id": "b15c4e2f-2338-49f9-bb87-22c28aeb375e",
   "metadata": {},
   "outputs": [],
   "source": []
  },
  {
   "cell_type": "markdown",
   "id": "d8047d66-7253-4b30-8d70-8d8ca4e7ce2a",
   "metadata": {},
   "source": [
    "## Check on connexion_bank_company"
   ]
  },
  {
   "cell_type": "code",
   "execution_count": 26,
   "id": "73c84866-e357-46fe-a27b-69e681e37f75",
   "metadata": {},
   "outputs": [],
   "source": [
    "assert len(set(cnx_bank_comp_df[\"Bank\"]) - set(bank_df[\"Bank Name\"])) == 0\n",
    "assert len(set(cnx_bank_comp_df[\"Company\"]) - set(comp_df[\"Company_name\"])) == 0"
   ]
  },
  {
   "cell_type": "markdown",
   "id": "7e1911a9-00b6-420a-a9ff-71bec9807de4",
   "metadata": {},
   "source": [
    "## Check on connexion_carbonbombs_company"
   ]
  },
  {
   "cell_type": "code",
   "execution_count": 27,
   "id": "c118ea63-f725-493a-8add-607a140d8729",
   "metadata": {},
   "outputs": [],
   "source": [
    "assert len(set(cnx_cb_comp_df[\"Carbon_bomb_name\"]) - set(cb_df[\"Carbon_bomb_name_source_CB\"])) == 0\n",
    "assert len(set(cnx_cb_comp_df[\"Company\"].fillna(\"None\")) - set(comp_df[\"Company_name\"]) - {\"None\", 'No informations on company'})  == 0\n",
    "assert len(set(comp_df[\"Company_name\"]) - set(cnx_cb_comp_df[\"Company\"]) - {\"None\"})  == 0"
   ]
  },
  {
   "cell_type": "markdown",
   "id": "9eb1b134-2444-4a23-932a-1aefc5d261e0",
   "metadata": {},
   "source": [
    "## Check on country_informations"
   ]
  },
  {
   "cell_type": "code",
   "execution_count": 28,
   "id": "4894dafb-463d-454f-8d74-99cdeceae094",
   "metadata": {},
   "outputs": [],
   "source": [
    "# No need UN data is good quality"
   ]
  },
  {
   "cell_type": "code",
   "execution_count": null,
   "id": "04b4936b-cd83-4531-be3c-b75d9655fee6",
   "metadata": {},
   "outputs": [],
   "source": []
  },
  {
   "cell_type": "markdown",
   "id": "6e369e8a-2c90-4be3-8d02-ffbd3551e3e5",
   "metadata": {},
   "source": [
    "## Check Metadata"
   ]
  },
  {
   "cell_type": "code",
   "execution_count": 29,
   "id": "14d002c7-35f9-4eb6-a264-2447f31ea9d7",
   "metadata": {},
   "outputs": [
    {
     "name": "stdout",
     "output_type": "stream",
     "text": [
      "For carbon_bombs_informations: columns OK\n",
      "\n",
      "For company_informations: columns OK\n",
      "\n",
      "For bank_informations: columns OK\n",
      "\n",
      "For connexion_bank_company: columns OK\n",
      "\n",
      "For connexion_carbonbombs_company: columns OK\n",
      "\n",
      "For country_informations: columns OK\n",
      "\n"
     ]
    }
   ],
   "source": [
    "for sheet_name in sheet_names:\n",
    "    if sheet_name == \"metadatas\":\n",
    "        continue\n",
    "\n",
    "    meta_df = metadatas.loc[metadatas[\"sheetName\"] == sheet_name]\n",
    "    df_ = pd.read_excel(\"data_cleaned/carbon_bombs_all_datasets.xlsx\", sheet_name=sheet_name)\n",
    "    \n",
    "    if set(df_.columns) == set(meta_df[\"columnName\"]):\n",
    "        print(f\"For {sheet_name}: columns OK\")\n",
    "    else:\n",
    "        print(f\"For {sheet_name}: columns NOT OK\")\n",
    "        print(set(df_.columns) - set(meta_df[\"columnName\"]))\n",
    "        print(set(meta_df[\"columnName\"]) - set(df_.columns))\n",
    "    print()"
   ]
  },
  {
   "cell_type": "code",
   "execution_count": null,
   "id": "2a590147-032d-4c33-82c9-8e82c035765d",
   "metadata": {},
   "outputs": [],
   "source": []
  }
 ],
 "metadata": {
  "kernelspec": {
   "display_name": "carbon_bombs",
   "language": "python",
   "name": "carbon_bombs"
  },
  "language_info": {
   "codemirror_mode": {
    "name": "ipython",
    "version": 3
   },
   "file_extension": ".py",
   "mimetype": "text/x-python",
   "name": "python",
   "nbconvert_exporter": "python",
   "pygments_lexer": "ipython3",
   "version": "3.10.11"
  }
 },
 "nbformat": 4,
 "nbformat_minor": 5
}
