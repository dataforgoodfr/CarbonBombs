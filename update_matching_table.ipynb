{
 "cells": [
  {
   "cell_type": "code",
   "execution_count": 2,
   "id": "86d07cf1-5145-436a-9238-f38e35d5378e",
   "metadata": {},
   "outputs": [],
   "source": [
    "import pandas as pd"
   ]
  },
  {
   "cell_type": "markdown",
   "id": "4b042e54-544f-4f04-9368-fcc6426567af",
   "metadata": {},
   "source": [
    "## GASOIL"
   ]
  },
  {
   "cell_type": "code",
   "execution_count": 5,
   "id": "887c1747-5b7e-4bdc-a3ce-304b55bc9353",
   "metadata": {},
   "outputs": [],
   "source": [
    "df_match = pd.read_excel(\"Manual matching.xlsx\", sheet_name=\"OilGasCarbonBombs\")"
   ]
  },
  {
   "cell_type": "code",
   "execution_count": 15,
   "id": "da3137a1-1d1a-45dd-a5a3-78ee04de79c5",
   "metadata": {},
   "outputs": [
    {
     "name": "stderr",
     "output_type": "stream",
     "text": [
      "C:\\Users\\LAUGA\\AppData\\Local\\Temp\\ipykernel_12608\\1741672566.py:2: SettingWithCopyWarning: \n",
      "A value is trying to be set on a copy of a slice from a DataFrame.\n",
      "Try using .loc[row_indexer,col_indexer] = value instead\n",
      "\n",
      "See the caveats in the documentation: https://pandas.pydata.org/pandas-docs/stable/user_guide/indexing.html#returning-a-view-versus-a-copy\n",
      "  tmp[\"CarbonBombs GEM\"] = tmp[\"CarbonBombs GEM\"].str.split(\"$\")\n"
     ]
    }
   ],
   "source": [
    "tmp = df_match[[\"CarbonBombs KK\", \"CarbonBombs GEM\"]]\n",
    "tmp[\"CarbonBombs GEM\"] = tmp[\"CarbonBombs GEM\"].str.split(\"$\")\n",
    "tmp = tmp.explode([\"CarbonBombs GEM\"])"
   ]
  },
  {
   "cell_type": "code",
   "execution_count": 19,
   "id": "054bf16d-51fe-42a4-ab66-302f40dd48cd",
   "metadata": {},
   "outputs": [
    {
     "data": {
      "text/html": [
       "<div>\n",
       "<style scoped>\n",
       "    .dataframe tbody tr th:only-of-type {\n",
       "        vertical-align: middle;\n",
       "    }\n",
       "\n",
       "    .dataframe tbody tr th {\n",
       "        vertical-align: top;\n",
       "    }\n",
       "\n",
       "    .dataframe thead th {\n",
       "        text-align: right;\n",
       "    }\n",
       "</style>\n",
       "<table border=\"1\" class=\"dataframe\">\n",
       "  <thead>\n",
       "    <tr style=\"text-align: right;\">\n",
       "      <th></th>\n",
       "      <th>CarbonBombs KK</th>\n",
       "      <th>CarbonBombs GEM</th>\n",
       "    </tr>\n",
       "  </thead>\n",
       "  <tbody>\n",
       "    <tr>\n",
       "      <th>0</th>\n",
       "      <td>Bu Hasa</td>\n",
       "      <td>Bu Hasa/Shah/Asab</td>\n",
       "    </tr>\n",
       "    <tr>\n",
       "      <th>1</th>\n",
       "      <td>Umm Shaif/Nasr</td>\n",
       "      <td>Umm Shaif</td>\n",
       "    </tr>\n",
       "    <tr>\n",
       "      <th>1</th>\n",
       "      <td>Umm Shaif/Nasr</td>\n",
       "      <td>Nasr</td>\n",
       "    </tr>\n",
       "    <tr>\n",
       "      <th>2</th>\n",
       "      <td>Asab</td>\n",
       "      <td>Bu Hasa/Shah/Asab</td>\n",
       "    </tr>\n",
       "    <tr>\n",
       "      <th>3</th>\n",
       "      <td>ACG (Azeri-Chirag-Guneshli Deep Water)</td>\n",
       "      <td>Azeri-Chirag-Guneshli (ACG) Deepwater</td>\n",
       "    </tr>\n",
       "    <tr>\n",
       "      <th>...</th>\n",
       "      <td>...</td>\n",
       "      <td>...</td>\n",
       "    </tr>\n",
       "    <tr>\n",
       "      <th>114</th>\n",
       "      <td>Lensky Basin CBM</td>\n",
       "      <td>Tuymazinskoye</td>\n",
       "    </tr>\n",
       "    <tr>\n",
       "      <th>114</th>\n",
       "      <td>Lensky Basin CBM</td>\n",
       "      <td>Yelnikovskoye</td>\n",
       "    </tr>\n",
       "    <tr>\n",
       "      <th>114</th>\n",
       "      <td>Lensky Basin CBM</td>\n",
       "      <td>Yen-Yakhinskoye</td>\n",
       "    </tr>\n",
       "    <tr>\n",
       "      <th>114</th>\n",
       "      <td>Lensky Basin CBM</td>\n",
       "      <td>Yugomashevskoye</td>\n",
       "    </tr>\n",
       "    <tr>\n",
       "      <th>114</th>\n",
       "      <td>Lensky Basin CBM</td>\n",
       "      <td>Yuzhno-Lunskoye</td>\n",
       "    </tr>\n",
       "  </tbody>\n",
       "</table>\n",
       "<p>2137 rows × 2 columns</p>\n",
       "</div>"
      ],
      "text/plain": [
       "                             CarbonBombs KK  \\\n",
       "0                                   Bu Hasa   \n",
       "1                            Umm Shaif/Nasr   \n",
       "1                            Umm Shaif/Nasr   \n",
       "2                                      Asab   \n",
       "3    ACG (Azeri-Chirag-Guneshli Deep Water)   \n",
       "..                                      ...   \n",
       "114                        Lensky Basin CBM   \n",
       "114                        Lensky Basin CBM   \n",
       "114                        Lensky Basin CBM   \n",
       "114                        Lensky Basin CBM   \n",
       "114                        Lensky Basin CBM   \n",
       "\n",
       "                           CarbonBombs GEM  \n",
       "0                        Bu Hasa/Shah/Asab  \n",
       "1                                Umm Shaif  \n",
       "1                                     Nasr  \n",
       "2                        Bu Hasa/Shah/Asab  \n",
       "3    Azeri-Chirag-Guneshli (ACG) Deepwater  \n",
       "..                                     ...  \n",
       "114                          Tuymazinskoye  \n",
       "114                          Yelnikovskoye  \n",
       "114                        Yen-Yakhinskoye  \n",
       "114                        Yugomashevskoye  \n",
       "114                        Yuzhno-Lunskoye  \n",
       "\n",
       "[2137 rows x 2 columns]"
      ]
     },
     "execution_count": 19,
     "metadata": {},
     "output_type": "execute_result"
    }
   ],
   "source": [
    "tmp"
   ]
  },
  {
   "cell_type": "code",
   "execution_count": null,
   "id": "31076028-fd1a-4f6f-bf2b-226b60484653",
   "metadata": {},
   "outputs": [],
   "source": [
    "tmp.to_csv(\"cb_gasoil_matching.csv\", index=False)"
   ]
  },
  {
   "cell_type": "markdown",
   "id": "ad1f6e56-1710-4449-8313-f0ad2ce4d4ef",
   "metadata": {},
   "source": [
    "## COAL"
   ]
  },
  {
   "cell_type": "code",
   "execution_count": 20,
   "id": "359d9eeb-6500-4d00-a656-6bbf8a71482e",
   "metadata": {},
   "outputs": [],
   "source": [
    "df_match = pd.read_excel(\"Manual matching.xlsx\", sheet_name=\"CoalCarbonBombs\")"
   ]
  },
  {
   "cell_type": "code",
   "execution_count": 21,
   "id": "dde413a3-2a86-4ca9-9a1c-0ebafd255ac2",
   "metadata": {},
   "outputs": [
    {
     "name": "stderr",
     "output_type": "stream",
     "text": [
      "C:\\Users\\LAUGA\\AppData\\Local\\Temp\\ipykernel_12608\\3616667495.py:2: SettingWithCopyWarning: \n",
      "A value is trying to be set on a copy of a slice from a DataFrame.\n",
      "Try using .loc[row_indexer,col_indexer] = value instead\n",
      "\n",
      "See the caveats in the documentation: https://pandas.pydata.org/pandas-docs/stable/user_guide/indexing.html#returning-a-view-versus-a-copy\n",
      "  tmp[\"CarbonBombs GEM\"] = tmp[\"CarbonBombs GEM\"].str.split(\"$\")\n"
     ]
    }
   ],
   "source": [
    "tmp = df_match[[\"CarbonBombs KK\", \"CarbonBombs GEM\"]]\n",
    "tmp[\"CarbonBombs GEM\"] = tmp[\"CarbonBombs GEM\"].str.split(\"$\")\n",
    "tmp = tmp.explode([\"CarbonBombs GEM\"])"
   ]
  },
  {
   "cell_type": "code",
   "execution_count": 22,
   "id": "67094fd1-a9d8-483c-8320-d66478ceb555",
   "metadata": {},
   "outputs": [
    {
     "data": {
      "text/html": [
       "<div>\n",
       "<style scoped>\n",
       "    .dataframe tbody tr th:only-of-type {\n",
       "        vertical-align: middle;\n",
       "    }\n",
       "\n",
       "    .dataframe tbody tr th {\n",
       "        vertical-align: top;\n",
       "    }\n",
       "\n",
       "    .dataframe thead th {\n",
       "        text-align: right;\n",
       "    }\n",
       "</style>\n",
       "<table border=\"1\" class=\"dataframe\">\n",
       "  <thead>\n",
       "    <tr style=\"text-align: right;\">\n",
       "      <th></th>\n",
       "      <th>CarbonBombs KK</th>\n",
       "      <th>CarbonBombs GEM</th>\n",
       "    </tr>\n",
       "  </thead>\n",
       "  <tbody>\n",
       "    <tr>\n",
       "      <th>0</th>\n",
       "      <td>Maritsa Coal Mines</td>\n",
       "      <td>Troyanovo-North Coal Mine</td>\n",
       "    </tr>\n",
       "    <tr>\n",
       "      <th>0</th>\n",
       "      <td>Maritsa Coal Mines</td>\n",
       "      <td>Troyanovo 1 Coal Mine</td>\n",
       "    </tr>\n",
       "    <tr>\n",
       "      <th>0</th>\n",
       "      <td>Maritsa Coal Mines</td>\n",
       "      <td>Troyanovo 3 Coal Mine</td>\n",
       "    </tr>\n",
       "    <tr>\n",
       "      <th>1</th>\n",
       "      <td>Kaniha Coal Mine</td>\n",
       "      <td>Gopalji Kaniha Coal Mine</td>\n",
       "    </tr>\n",
       "    <tr>\n",
       "      <th>2</th>\n",
       "      <td>Kerandari BC</td>\n",
       "      <td>Kerendari Coal Mine</td>\n",
       "    </tr>\n",
       "    <tr>\n",
       "      <th>3</th>\n",
       "      <td>Bankui</td>\n",
       "      <td>NaN</td>\n",
       "    </tr>\n",
       "    <tr>\n",
       "      <th>4</th>\n",
       "      <td>Mandakini B</td>\n",
       "      <td>Mandakini–B Coal Mine</td>\n",
       "    </tr>\n",
       "    <tr>\n",
       "      <th>5</th>\n",
       "      <td>Saharpur Jamarpani</td>\n",
       "      <td>Saharpur-Jamarpani Coal Mine</td>\n",
       "    </tr>\n",
       "    <tr>\n",
       "      <th>6</th>\n",
       "      <td>BIB Coal Mine</td>\n",
       "      <td>Boneo Indobara Coal Mine</td>\n",
       "    </tr>\n",
       "    <tr>\n",
       "      <th>7</th>\n",
       "      <td>Borly Coal Mines</td>\n",
       "      <td>Molodezhny Coal Mine</td>\n",
       "    </tr>\n",
       "    <tr>\n",
       "      <th>8</th>\n",
       "      <td>Listvianskaya Coal Mine</td>\n",
       "      <td>Listvyazhnaya Coal Mine</td>\n",
       "    </tr>\n",
       "    <tr>\n",
       "      <th>9</th>\n",
       "      <td>Elga Coal Mine</td>\n",
       "      <td>Elginskiy Coal Mine</td>\n",
       "    </tr>\n",
       "    <tr>\n",
       "      <th>10</th>\n",
       "      <td>Inaglinskaya-2 Mine</td>\n",
       "      <td>Inaglinsky Coal Mine 2</td>\n",
       "    </tr>\n",
       "    <tr>\n",
       "      <th>11</th>\n",
       "      <td>Bernice-Cygnus Coal Mine</td>\n",
       "      <td>Berenice-Cygnus Coal Mine</td>\n",
       "    </tr>\n",
       "    <tr>\n",
       "      <th>12</th>\n",
       "      <td>Hamilton County Mine No.1</td>\n",
       "      <td>White Oak Coal Mine</td>\n",
       "    </tr>\n",
       "    <tr>\n",
       "      <th>13</th>\n",
       "      <td>Sengwe Colliery</td>\n",
       "      <td>Sengwa Coal Mine</td>\n",
       "    </tr>\n",
       "  </tbody>\n",
       "</table>\n",
       "</div>"
      ],
      "text/plain": [
       "               CarbonBombs KK               CarbonBombs GEM\n",
       "0          Maritsa Coal Mines     Troyanovo-North Coal Mine\n",
       "0          Maritsa Coal Mines         Troyanovo 1 Coal Mine\n",
       "0          Maritsa Coal Mines         Troyanovo 3 Coal Mine\n",
       "1            Kaniha Coal Mine      Gopalji Kaniha Coal Mine\n",
       "2                Kerandari BC           Kerendari Coal Mine\n",
       "3                      Bankui                           NaN\n",
       "4                 Mandakini B         Mandakini–B Coal Mine\n",
       "5          Saharpur Jamarpani  Saharpur-Jamarpani Coal Mine\n",
       "6               BIB Coal Mine      Boneo Indobara Coal Mine\n",
       "7            Borly Coal Mines          Molodezhny Coal Mine\n",
       "8     Listvianskaya Coal Mine       Listvyazhnaya Coal Mine\n",
       "9              Elga Coal Mine           Elginskiy Coal Mine\n",
       "10        Inaglinskaya-2 Mine        Inaglinsky Coal Mine 2\n",
       "11   Bernice-Cygnus Coal Mine     Berenice-Cygnus Coal Mine\n",
       "12  Hamilton County Mine No.1           White Oak Coal Mine\n",
       "13            Sengwe Colliery              Sengwa Coal Mine"
      ]
     },
     "execution_count": 22,
     "metadata": {},
     "output_type": "execute_result"
    }
   ],
   "source": [
    "tmp"
   ]
  },
  {
   "cell_type": "code",
   "execution_count": null,
   "id": "5c422403-8bc1-4f45-882b-1798a4ab4b2e",
   "metadata": {},
   "outputs": [],
   "source": [
    "tmp.to_csv(\"cb_coal_matching.csv\", index=False)"
   ]
  }
 ],
 "metadata": {
  "kernelspec": {
   "display_name": "carbon_bombs",
   "language": "python",
   "name": "carbon_bombs"
  },
  "language_info": {
   "codemirror_mode": {
    "name": "ipython",
    "version": 3
   },
   "file_extension": ".py",
   "mimetype": "text/x-python",
   "name": "python",
   "nbconvert_exporter": "python",
   "pygments_lexer": "ipython3",
   "version": "3.9.16"
  }
 },
 "nbformat": 4,
 "nbformat_minor": 5
}
